{
 "cells": [
  {
   "cell_type": "code",
   "execution_count": null,
   "metadata": {},
   "outputs": [],
   "source": [
    "import gspread\n",
    "import pandas as pd\n",
    "import numpy as np"
   ]
  },
  {
   "cell_type": "markdown",
   "metadata": {},
   "source": [
    "# Configure gspread\n",
    "\n",
    "* Create a service account as described in the `gspread` documentation\n",
    "* save the JSON key in this folder\n",
    "* invite the relative `client_email` to be editor of the sheet"
   ]
  },
  {
   "cell_type": "code",
   "execution_count": null,
   "metadata": {},
   "outputs": [],
   "source": [
    "import pathlib"
   ]
  },
  {
   "cell_type": "code",
   "execution_count": null,
   "metadata": {},
   "outputs": [],
   "source": [
    "service_account_json = list(pathlib.Path(\".\").glob(\"*.json\"))[0]"
   ]
  },
  {
   "cell_type": "code",
   "execution_count": null,
   "metadata": {},
   "outputs": [],
   "source": [
    "print(\"Using credentials from\", service_account_json)"
   ]
  },
  {
   "cell_type": "code",
   "execution_count": null,
   "metadata": {},
   "outputs": [],
   "source": [
    "gc = gspread.service_account(filename=service_account_json)"
   ]
  },
  {
   "cell_type": "code",
   "execution_count": null,
   "metadata": {},
   "outputs": [],
   "source": [
    "sh = gc.open(\"IRIS_telemetry_and_FITS_metadata\")\n",
    "\n",
    "print(sh.sheet1.get('B1'))"
   ]
  },
  {
   "cell_type": "code",
   "execution_count": null,
   "metadata": {},
   "outputs": [],
   "source": [
    "worksheet = sh.get_worksheet(0)"
   ]
  },
  {
   "cell_type": "code",
   "execution_count": null,
   "metadata": {},
   "outputs": [],
   "source": [
    "#worksheet.update([dataframe.columns.values.tolist()] + dataframe.values.tolist())"
   ]
  },
  {
   "cell_type": "code",
   "execution_count": null,
   "metadata": {},
   "outputs": [],
   "source": [
    "isEvent_index = 13"
   ]
  },
  {
   "cell_type": "code",
   "execution_count": null,
   "metadata": {},
   "outputs": [],
   "source": []
  },
  {
   "cell_type": "code",
   "execution_count": null,
   "metadata": {},
   "outputs": [],
   "source": [
    "data = pd.read_csv(\"IRIS_telemetry_and_FITS_metadata.csv\")"
   ]
  },
  {
   "cell_type": "code",
   "execution_count": null,
   "metadata": {},
   "outputs": [],
   "source": [
    "missing_requiredrate = data[(data.isEvent == 1) & np.isnan(data.requiredRate)]"
   ]
  },
  {
   "cell_type": "code",
   "execution_count": null,
   "metadata": {},
   "outputs": [],
   "source": [
    "row = missing_requiredrate.iloc[0]"
   ]
  },
  {
   "cell_type": "code",
   "execution_count": null,
   "metadata": {},
   "outputs": [],
   "source": [
    "missing_requiredrate"
   ]
  },
  {
   "cell_type": "code",
   "execution_count": null,
   "metadata": {},
   "outputs": [],
   "source": [
    "ls TCS-Model-Files/pk"
   ]
  },
  {
   "cell_type": "code",
   "execution_count": null,
   "metadata": {},
   "outputs": [],
   "source": [
    "from pyhocon import ConfigFactory, ConfigMissingException\n",
    "\n"
   ]
  },
  {
   "cell_type": "code",
   "execution_count": null,
   "metadata": {},
   "outputs": [],
   "source": [
    "for event in publish[\"publish\"][\"events\"]:\n",
    "    print(event[\"name\"])"
   ]
  },
  {
   "cell_type": "code",
   "execution_count": null,
   "metadata": {},
   "outputs": [],
   "source": [
    "row"
   ]
  },
  {
   "cell_type": "code",
   "execution_count": null,
   "metadata": {},
   "outputs": [],
   "source": [
    "event"
   ]
  },
  {
   "cell_type": "code",
   "execution_count": null,
   "metadata": {},
   "outputs": [],
   "source": [
    "row"
   ]
  },
  {
   "cell_type": "code",
   "execution_count": null,
   "metadata": {},
   "outputs": [],
   "source": [
    "component_dict = {\"TCS M3 Assembly\":\"m3a\", \"TCS M2 Assembly\":\"m2a\", \"cmIRIS\":\"iris\", \"ENCAssembly\":\"ecs/ENCAssemblyModelFiles\",\n",
    "                 \"cmNFIRAOS\":\"nfiraos\"}"
   ]
  },
  {
   "cell_type": "code",
   "execution_count": null,
   "metadata": {},
   "outputs": [],
   "source": [
    "missing_rate = set()\n",
    "for key, row in missing_requiredrate.iterrows():\n",
    "    if row.subsystem == \"TCS\":\n",
    "        component = component_dict.get(row.component, row.component)\n",
    "        publish = ConfigFactory.parse_file(f'{row.subsystem}-Model-Files/{component}/publish-model.conf')\n",
    "        event = [ev for ev in publish[\"publish\"][\"events\"] if ev[\"name\"] == row[\"name\"]][0]\n",
    "\n",
    "        variables = [at[\"name\"] for at in event[\"attributes\"]]\n",
    "\n",
    "        try:\n",
    "            assert row.Variable in variables\n",
    "        except AssertionError:\n",
    "            simplified_name = row.Variable\n",
    "            for i in range(1, 10):\n",
    "                simplified_name = simplified_name.replace(str(i), \"\")\n",
    "            assert simplified_name in variables\n",
    "            print(f\"Using {simplified_name} for {row.Variable}\")\n",
    " \n",
    "\n",
    "        try:\n",
    "            missing_requiredrate.at[key, \"requiredRate\"] = event[\"maxRate\"]\n",
    "        except ConfigMissingException:\n",
    "            missing_rate.add(event[\"name\"])"
   ]
  },
  {
   "cell_type": "code",
   "execution_count": null,
   "metadata": {},
   "outputs": [],
   "source": [
    "event"
   ]
  },
  {
   "cell_type": "code",
   "execution_count": null,
   "metadata": {},
   "outputs": [],
   "source": [
    "missing_requiredrate"
   ]
  },
  {
   "cell_type": "code",
   "execution_count": null,
   "metadata": {},
   "outputs": [],
   "source": []
  }
 ],
 "metadata": {
  "kernelspec": {
   "display_name": "jwst",
   "language": "python",
   "name": "jwst"
  },
  "language_info": {
   "codemirror_mode": {
    "name": "ipython",
    "version": 3
   },
   "file_extension": ".py",
   "mimetype": "text/x-python",
   "name": "python",
   "nbconvert_exporter": "python",
   "pygments_lexer": "ipython3",
   "version": "3.6.9"
  }
 },
 "nbformat": 4,
 "nbformat_minor": 4
}
